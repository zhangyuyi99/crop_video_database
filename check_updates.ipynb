{
 "cells": [
  {
   "cell_type": "code",
   "execution_count": 4,
   "metadata": {},
   "outputs": [
    {
     "name": "stdout",
     "output_type": "stream",
     "text": [
      "('10feet_100002501916.MP4', '//sf3.bss.phy.private.cam.ac.uk/cicutagroup/yz655/wheat_videos/2023.05.30.Nottingham.UK/video\\\\10feet_100002501916.MP4', datetime.date(2023, 5, 30), datetime.timedelta(seconds=49254), 82.09, 'MP4', 3840, 2160, 29.97, None)\n",
      "('180feet_100002461912.MP4', '//sf3.bss.phy.private.cam.ac.uk/cicutagroup/yz655/wheat_videos/2023.05.30.Nottingham.UK/video\\\\180feet_100002461912.MP4', datetime.date(2023, 5, 30), datetime.timedelta(seconds=46578), 66.07, 'MP4', 3840, 2160, 29.97, None)\n",
      "('180feet_100002471913.MP4', '//sf3.bss.phy.private.cam.ac.uk/cicutagroup/yz655/wheat_videos/2023.05.30.Nottingham.UK/video\\\\180feet_100002471913.MP4', datetime.date(2023, 5, 30), datetime.timedelta(seconds=46874), 61.06, 'MP4', 3840, 2160, 29.97, None)\n",
      "('180feet_100002481914.MP4', '//sf3.bss.phy.private.cam.ac.uk/cicutagroup/yz655/wheat_videos/2023.05.30.Nottingham.UK/video\\\\180feet_100002481914.MP4', datetime.date(2023, 5, 30), datetime.timedelta(seconds=47186), 61.06, 'MP4', 3840, 2160, 29.97, None)\n",
      "('285feet_100002491915.MP4', '//sf3.bss.phy.private.cam.ac.uk/cicutagroup/yz655/wheat_videos/2023.05.30.Nottingham.UK/video\\\\285feet_100002491915.MP4', datetime.date(2023, 5, 30), datetime.timedelta(seconds=48194), 122.11, 'MP4', 3840, 2160, 29.97, None)\n",
      "('30feet_100002401906.MP4', '//sf3.bss.phy.private.cam.ac.uk/cicutagroup/yz655/wheat_videos/2023.05.30.Nottingham.UK/video\\\\30feet_100002401906.MP4', datetime.date(2023, 5, 30), datetime.timedelta(seconds=49556), 79.08, 'MP4', 3840, 2160, 29.97, None)\n",
      "('30feet_100002411907.MP4', '//sf3.bss.phy.private.cam.ac.uk/cicutagroup/yz655/wheat_videos/2023.05.30.Nottingham.UK/video\\\\30feet_100002411907.MP4', datetime.date(2023, 5, 30), datetime.timedelta(seconds=49964), 105.11, 'MP4', 3840, 2160, 29.97, None)\n",
      "('30feet_100002421908.MP4', '//sf3.bss.phy.private.cam.ac.uk/cicutagroup/yz655/wheat_videos/2023.05.30.Nottingham.UK/video\\\\30feet_100002421908.MP4', datetime.date(2023, 5, 30), datetime.timedelta(seconds=50178), 60.42, 'MP4', 3840, 2160, 29.97, None)\n",
      "('60feet_100002361902.MP4', '//sf3.bss.phy.private.cam.ac.uk/cicutagroup/yz655/wheat_videos/2023.05.30.Nottingham.UK/video\\\\60feet_100002361902.MP4', datetime.date(2023, 5, 30), datetime.timedelta(seconds=41788), 71.06, 'MP4', 3840, 2160, 29.97, None)\n",
      "('60feet_100002371903.MP4', '//sf3.bss.phy.private.cam.ac.uk/cicutagroup/yz655/wheat_videos/2023.05.30.Nottingham.UK/video\\\\60feet_100002371903.MP4', datetime.date(2023, 5, 30), datetime.timedelta(seconds=47508), 61.12, 'MP4', 3840, 2160, 29.97, None)\n",
      "('60feet_100002381904.MP4', '//sf3.bss.phy.private.cam.ac.uk/cicutagroup/yz655/wheat_videos/2023.05.30.Nottingham.UK/video\\\\60feet_100002381904.MP4', datetime.date(2023, 5, 30), datetime.timedelta(seconds=48514), 63.06, 'MP4', 3840, 2160, 29.97, None)\n",
      "('60feet_100002391905.MP4', '//sf3.bss.phy.private.cam.ac.uk/cicutagroup/yz655/wheat_videos/2023.05.30.Nottingham.UK/video\\\\60feet_100002391905.MP4', datetime.date(2023, 5, 30), datetime.timedelta(seconds=48848), 63.19, 'MP4', 3840, 2160, 29.97, None)\n",
      "('90feet_100002431909.MP4', '//sf3.bss.phy.private.cam.ac.uk/cicutagroup/yz655/wheat_videos/2023.05.30.Nottingham.UK/video\\\\90feet_100002431909.MP4', datetime.date(2023, 5, 30), datetime.timedelta(seconds=45746), 64.06, 'MP4', 3840, 2160, 29.97, None)\n",
      "('90feet_100002441910.MP4', '//sf3.bss.phy.private.cam.ac.uk/cicutagroup/yz655/wheat_videos/2023.05.30.Nottingham.UK/video\\\\90feet_100002441910.MP4', datetime.date(2023, 5, 30), datetime.timedelta(seconds=45990), 61.06, 'MP4', 3840, 2160, 29.97, None)\n",
      "('90feet_100002451911.MP4', '//sf3.bss.phy.private.cam.ac.uk/cicutagroup/yz655/wheat_videos/2023.05.30.Nottingham.UK/video\\\\90feet_100002451911.MP4', datetime.date(2023, 5, 30), datetime.timedelta(seconds=46250), 61.27, 'MP4', 3840, 2160, 29.97, None)\n"
     ]
    }
   ],
   "source": [
    "# Print all entries of Video table\n",
    "##################################\n",
    "import mysql.connector\n",
    "\n",
    "# Connect to the database\n",
    "cnx = mysql.connector.connect(user='root', password='dronevideos', host='localhost', database='wheat_videos')\n",
    "cursor = cnx.cursor()\n",
    "\n",
    "# Select all rows from the 'video' table\n",
    "cursor.execute(\"SELECT * FROM video\")\n",
    "\n",
    "# Fetch all rows as a list of tuples\n",
    "rows = cursor.fetchall()\n",
    "\n",
    "# Print each row\n",
    "for row in rows:\n",
    "    print(row)\n",
    "\n",
    "# Close connection\n",
    "cursor.close()\n",
    "cnx.close()\n"
   ]
  },
  {
   "cell_type": "code",
   "execution_count": 3,
   "metadata": {},
   "outputs": [
    {
     "name": "stdout",
     "output_type": "stream",
     "text": [
      "ddm_data\n",
      "detailed_wheat_data\n",
      "device\n",
      "operator\n",
      "processed_videos\n",
      "video\n",
      "video_group\n",
      "wheat_data\n",
      "wind_change_details\n",
      "wind_data\n"
     ]
    }
   ],
   "source": [
    "# Print all table names\n",
    "#######################\n",
    "import mysql.connector\n",
    "\n",
    "cnx = mysql.connector.connect(user='root', password='dronevideos', host='localhost', database='crop_videos')\n",
    "cursor = cnx.cursor()\n",
    "\n",
    "cursor.execute(\"SHOW TABLES;\")\n",
    "tables = cursor.fetchall()\n",
    "\n",
    "for table in tables:\n",
    "    print(table[0])\n",
    "\n",
    "cursor.close()\n",
    "cnx.close()\n"
   ]
  }
 ],
 "metadata": {
  "kernelspec": {
   "display_name": "Python 3",
   "language": "python",
   "name": "python3"
  },
  "language_info": {
   "codemirror_mode": {
    "name": "ipython",
    "version": 3
   },
   "file_extension": ".py",
   "mimetype": "text/x-python",
   "name": "python",
   "nbconvert_exporter": "python",
   "pygments_lexer": "ipython3",
   "version": "3.11.0"
  },
  "orig_nbformat": 4
 },
 "nbformat": 4,
 "nbformat_minor": 2
}
